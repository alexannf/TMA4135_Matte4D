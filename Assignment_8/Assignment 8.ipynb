{
 "cells": [
  {
   "cell_type": "markdown",
   "metadata": {},
   "source": [
    "1] d): Repeat the example above, but now with n+1 uniformly distributed nodes\n",
    "over the interval [1; 3]. Use the functions divdiff and newton_interpolation.\n",
    "Choose n = 2 (to control your hand calculations), 4; 8 and 16. Find the approximation\n",
    "in each case, as well as the error."
   ]
  },
  {
   "cell_type": "code",
   "execution_count": 2,
   "metadata": {
    "ExecuteTime": {
     "end_time": "2019-10-28T00:34:11.441658Z",
     "start_time": "2019-10-28T00:34:10.125864Z"
    }
   },
   "outputs": [],
   "source": [
    "%matplotlib inline\n",
    "\n",
    "# Import required modules.\n",
    "from numpy import *               \n",
    "from numpy.linalg import solve        # To solve Ax=b\n",
    "from matplotlib.pyplot import *  \n",
    "import math\n",
    "\n",
    "# For plotting. \n",
    "newparams = {'figure.figsize': (8.0, 4.0), 'axes.grid': True,\n",
    "             'lines.markersize': 8, 'lines.linewidth': 2,\n",
    "             'font.size': 16}\n",
    "rcParams.update(newparams)"
   ]
  },
  {
   "cell_type": "code",
   "execution_count": 3,
   "metadata": {
    "ExecuteTime": {
     "end_time": "2019-10-28T00:34:11.456384Z",
     "start_time": "2019-10-28T00:34:11.446768Z"
    }
   },
   "outputs": [],
   "source": [
    "def divdiff(xdata,ydata):\n",
    "    # Create the table of divided differences based\n",
    "    # on the data in the arrays x_data and y_data. \n",
    "    n = len(xdata)\n",
    "    F = zeros((n,n))\n",
    "    F[:,0] = ydata             # Array for the divided differences\n",
    "    for j in range(n):\n",
    "        for i in range(n-j-1):\n",
    "            F[i,j+1] = (F[i+1,j]-F[i,j])/(xdata[i+j+1]-xdata[i])\n",
    "    return F                    # Return all of F for inspection. \n",
    "                                # Only the first row is necessary for the\n",
    "                                # polynomial.\n",
    "\n",
    "def newton_interpolation(F, xdata, x):\n",
    "    # The Newton interpolation polynomial evaluated in x. \n",
    "    n, m = shape(F)\n",
    "    xpoly = ones(len(x))               # (x-x[0])(x-x[1])...\n",
    "    newton_poly = F[0,0]*ones(len(x))  # The Newton polynomial\n",
    "    for j in range(n-1):\n",
    "        xpoly = xpoly*(x-xdata[j])\n",
    "        newton_poly = newton_poly + F[0,j+1]*xpoly\n",
    "    return newton_poly"
   ]
  },
  {
   "cell_type": "code",
   "execution_count": 4,
   "metadata": {
    "ExecuteTime": {
     "end_time": "2019-10-28T00:34:12.676030Z",
     "start_time": "2019-10-28T00:34:12.653540Z"
    }
   },
   "outputs": [
    {
     "name": "stdout",
     "output_type": "stream",
     "text": [
      "The \"actual\" value is: 1.73205080757\n",
      "\n",
      "The newton interpolation for 2 uniformly distributed nodes:\n",
      "[ 1.7]\n",
      "\n",
      "The newton interpolation for 4 uniformly distributed nodes:\n",
      "[ 1.73463203]\n",
      "\n",
      "The newton interpolation for 8 uniformly distributed nodes:\n",
      "[ 1.7320459]\n",
      "\n",
      "The newton interpolation for 16 uniformly distributed nodes:\n",
      "[ 1.73205081]\n"
     ]
    }
   ],
   "source": [
    "def f(x):\n",
    "    return x**2 - 3\n",
    "\n",
    "n_values = [2, 4, 8, 16]\n",
    "print('The \"actual\" value is: 1.73205080757')\n",
    "\n",
    "for n in n_values:\n",
    "    xdata = linspace(1, 3, n+1)                     # The x-values in which the polynomial is evaluated\n",
    "    ydata = f(xdata)                                # The corresponing y-vaules\n",
    "    F = divdiff(ydata, xdata)                       # Table of differences, flipped to simulate inversion\n",
    "    p = newton_interpolation(F, ydata, [0])         # newton interpolation evaluated for f^-1(0)\n",
    "    print(\"\\nThe newton interpolation for {} uniformly distributed nodes:\".format(n))\n",
    "    print(p)"
   ]
  },
  {
   "cell_type": "markdown",
   "metadata": {},
   "source": [
    "3] c): Find the numerical approximation of the integral by using the function simpson, and m from point b). Verify that the error is less than 10^8."
   ]
  },
  {
   "cell_type": "code",
   "execution_count": 5,
   "metadata": {
    "ExecuteTime": {
     "end_time": "2019-10-28T00:34:15.793339Z",
     "start_time": "2019-10-28T00:34:15.781690Z"
    }
   },
   "outputs": [],
   "source": [
    "def simpson_basic(f, a, b):\n",
    "    # Simpson's method with error estimate\n",
    "    # Input:  \n",
    "    #   f:    integrand\n",
    "    #   a, b: integration interval\n",
    "    # Output:\n",
    "    #   S_2(a,b) and the error estimate.\n",
    "    \n",
    "    # The nodes \n",
    "    c = 0.5*(a+b)\n",
    "    d = 0.5*(a+c)\n",
    "    e = 0.5*(c+b)\n",
    "    \n",
    "    # Calculate S1=S_1(a,b), S2=S_2(a,b) \n",
    "    H = b-a\n",
    "    S1 = H*(f(a)+4*f(c)+f(b))/6\n",
    "    S2 = 0.5*H*(f(a)+4*f(d)+2*f(c)+4*f(e)+f(b))/6\n",
    "\n",
    "    error_estimate = (S2-S1)/15    # Error estimate for S2\n",
    "    return S2, error_estimate"
   ]
  },
  {
   "cell_type": "code",
   "execution_count": 9,
   "metadata": {
    "ExecuteTime": {
     "end_time": "2019-10-28T00:38:47.649306Z",
     "start_time": "2019-10-28T00:38:47.634900Z"
    }
   },
   "outputs": [
    {
     "name": "stdout",
     "output_type": "stream",
     "text": [
      "Numerical solution = 0.31819962, exact solution = 0.31809237\n",
      "Error in S2 = -1.072e-04,  error estimate for S2 = -9.797e-05\n",
      "the statement that -9.797304299630956e-05 is less than 10^-8 is: True\n"
     ]
    }
   ],
   "source": [
    "def g(x):               # Integrand\n",
    "    return e**-x\n",
    "\n",
    "a, b = 1, 3             # Integration interval\n",
    "    \n",
    "I_exact = e**-1 - e**-3       # Exact solution for comparision\n",
    "\n",
    "# Simpson's method over two intervals, with error estimate\n",
    "S, error_estimate = simpson_basic(g, a, b)\n",
    "\n",
    "# Print the result and the exact solution \n",
    "print('Numerical solution = {:.8f}, exact solution = {:.8f}'.format(S, I_exact))\n",
    "\n",
    "# Compare the error and the error estimate \n",
    "print('Error in S2 = {:.3e},  error estimate for S2 = {:.3e}'.format(I_exact-S, error_estimate))\n",
    "\n",
    "isless = error_estimate <= 10**-8\n",
    "\n",
    "print('the statement that {0} is less than 10^-8 is: {1}'.format(error_estimate, isless))"
   ]
  },
  {
   "cell_type": "code",
   "execution_count": null,
   "metadata": {},
   "outputs": [],
   "source": []
  },
  {
   "cell_type": "code",
   "execution_count": null,
   "metadata": {},
   "outputs": [],
   "source": []
  }
 ],
 "metadata": {
  "kernelspec": {
   "display_name": "Python 3",
   "language": "python",
   "name": "python3"
  },
  "language_info": {
   "codemirror_mode": {
    "name": "ipython",
    "version": 3
   },
   "file_extension": ".py",
   "mimetype": "text/x-python",
   "name": "python",
   "nbconvert_exporter": "python",
   "pygments_lexer": "ipython3",
   "version": "3.6.7"
  },
  "toc": {
   "base_numbering": 1,
   "nav_menu": {},
   "number_sections": true,
   "sideBar": true,
   "skip_h1_title": false,
   "title_cell": "Table of Contents",
   "title_sidebar": "Contents",
   "toc_cell": false,
   "toc_position": {},
   "toc_section_display": true,
   "toc_window_display": false
  }
 },
 "nbformat": 4,
 "nbformat_minor": 2
}
