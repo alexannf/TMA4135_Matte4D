{
 "cells": [
  {
   "cell_type": "code",
   "execution_count": 16,
   "metadata": {
    "ExecuteTime": {
     "end_time": "2019-11-05T10:26:14.185937Z",
     "start_time": "2019-11-05T10:26:14.163648Z"
    }
   },
   "outputs": [],
   "source": [
    "%matplotlib inline\n",
    "\n",
    "# Import required modules.\n",
    "from numpy import *               \n",
    "from numpy.linalg import solve, norm        # To solve Ax=b\n",
    "from matplotlib.pyplot import *   \n",
    "\n",
    "# For plotting. \n",
    "newparams = {'figure.figsize': (8.0, 4.0), 'axes.grid': True,\n",
    "             'lines.markersize': 8, 'lines.linewidth': 2,\n",
    "             'font.size': 16}\n",
    "rcParams.update(newparams)"
   ]
  },
  {
   "cell_type": "code",
   "execution_count": 17,
   "metadata": {
    "ExecuteTime": {
     "end_time": "2019-11-05T10:26:16.359373Z",
     "start_time": "2019-11-05T10:26:14.481165Z"
    }
   },
   "outputs": [
    {
     "name": "stdout",
     "output_type": "stream",
     "text": [
      "1] a)\n",
      "h = 2.00e+00,   S(h) = 0.78346746,   e(h) = 4.77e-02\n",
      "h = 1.00e+00,   S(h) = 0.73913060,   e(h) = 3.37e-03\n",
      "h = 5.00e-01,   S(h) = 0.73597650,   e(h) = 2.18e-04\n",
      "h = 2.50e-01,   S(h) = 0.73577259,   e(h) = 1.37e-05\n",
      "h = 1.25e-01,   S(h) = 0.73575974,   e(h) = 8.59e-07\n",
      "h = 6.25e-02,   S(h) = 0.73575894,   e(h) = 5.37e-08\n",
      "h = 3.12e-02,   S(h) = 0.73575889,   e(h) = 3.36e-09\n",
      "h = 1.56e-02,   S(h) = 0.73575888,   e(h) = 2.10e-10\n",
      "h = 7.81e-03,   S(h) = 0.73575888,   e(h) = 1.31e-11\n",
      "h = 3.91e-03,   S(h) = 0.73575888,   e(h) = 8.19e-13\n",
      "\n",
      "The order p and the error constant C\n",
      "h = 1.00e+00,  p = 3.95,  C = 0.0034\n",
      "h = 5.00e-01,  p = 3.99,  C = 0.0035\n",
      "h = 2.50e-01,  p = 4.00,  C = 0.0035\n",
      "h = 1.25e-01,  p = 4.00,  C = 0.0035\n",
      "h = 6.25e-02,  p = 4.00,  C = 0.0035\n",
      "h = 3.12e-02,  p = 4.00,  C = 0.0035\n",
      "h = 1.56e-02,  p = 4.00,  C = 0.0035\n",
      "h = 7.81e-03,  p = 4.00,  C = 0.0035\n"
     ]
    },
    {
     "data": {
      "image/png": "[encoded data removed]",
      "text/plain": [
       "<Figure size 576x288 with 1 Axes>"
      ]
     },
     "metadata": {
      "needs_background": "light"
     },
     "output_type": "display_data"
    }
   ],
   "source": [
    "# Find the order and the error plot for the simpson rule\n",
    "print(\"1] a)\")\n",
    "\n",
    "def simpson(f, a, b, m=10):\n",
    "# Find an approximation to an integral by the composite Simpson's method:\n",
    "# Input:  \n",
    "#   f:    integrand\n",
    "#   a, b: integration interval\n",
    "#   m:    number of subintervals\n",
    "# Output: The approximation to the integral\n",
    "    n = 2*m\n",
    "    x_noder = linspace(a, b, n+1)       # equidistributed nodes from a to b \n",
    "    h = (b-a)/n                         # stepsize\n",
    "    S1 = f(x_noder[0]) + f(x_noder[n])  # S1 = f(x_0)+f(x_n)\n",
    "    S2 = sum(f(x_noder[1:n:2]))         # S2 = f(x_1)+f(x_3)+...+f(x_m)\n",
    "    S3 = sum(f(x_noder[2:n-1:2]))       # S3 = f(x_2)+f(x_4)+...+f(x_{m-1})\n",
    "    S = h*(S1 + 4*S2 + 2*S3)/3\n",
    "    return S\n",
    "\n",
    "def f(x):                       # Define the function\n",
    "    return x * exp(x)\n",
    "\n",
    "a, b = -1, 1                    # integration interval\n",
    "exact = 2/exp(1)\n",
    "\n",
    "# Find an numerical approximation for different values of h. \n",
    "# Store the stepsize h and the error\n",
    "n = 1                           # initial stepsize, h=(b-a)/n \n",
    "h = (b-a)/n\n",
    "steps = []                      # arrays to store stepsizes and errors\n",
    "errors = []\n",
    "Nmax = 10\n",
    "for k in range(Nmax):\n",
    "    numres = simpson(f, a, b, n)    # Numerical approximation\n",
    "    eh = abs(exact - numres)            # Error e(h)\n",
    "    print('h = {:8.2e},   S(h) = {:10.8f},   e(h) = {:8.2e}'.format(h, numres, eh))\n",
    "    steps.append(h)                     # Append the step to the array\n",
    "    errors.append(eh)                   # Append the error to the array\n",
    "    n = 2*n                             # Reduce the stepsize with a factor 2\n",
    "    h = (b-a)/n\n",
    "\n",
    "# Find the order and the error constant\n",
    "print('\\nThe order p and the error constant C')\n",
    "for k in range(1, Nmax-1):\n",
    "    p = log(errors[k+1]/errors[k])/log(steps[k+1]/steps[k])\n",
    "    C = errors[k+1]/steps[k+1]**p\n",
    "    print('h = {:8.2e},  p = {:4.2f},  C = {:6.4f}'.format(steps[k], p, C))\n",
    "\n",
    "# Make an error plot\n",
    "clf()\n",
    "loglog(steps, errors, 'o-')\n",
    "xlabel('h')\n",
    "ylabel('e(h)')\n",
    "title('Error plot for the simpson rule')\n",
    "grid('True')"
   ]
  },
  {
   "cell_type": "code",
   "execution_count": 18,
   "metadata": {
    "ExecuteTime": {
     "end_time": "2019-11-05T10:26:18.457953Z",
     "start_time": "2019-11-05T10:26:16.364981Z"
    }
   },
   "outputs": [
    {
     "name": "stdout",
     "output_type": "stream",
     "text": [
      "1] b)\n",
      "h = 2.00e+00,   S(h) = 0.73575888,   e(h) = 8.19e-13\n",
      "h = 1.00e+00,   S(h) = 0.73575888,   e(h) = 8.19e-13\n",
      "h = 5.00e-01,   S(h) = 0.73575888,   e(h) = 8.19e-13\n",
      "h = 2.50e-01,   S(h) = 0.73575888,   e(h) = 8.19e-13\n",
      "h = 1.25e-01,   S(h) = 0.73575888,   e(h) = 8.19e-13\n",
      "h = 6.25e-02,   S(h) = 0.73575888,   e(h) = 8.19e-13\n",
      "h = 3.12e-02,   S(h) = 0.73575888,   e(h) = 8.19e-13\n",
      "h = 1.56e-02,   S(h) = 0.73575888,   e(h) = 8.19e-13\n",
      "h = 7.81e-03,   S(h) = 0.73575888,   e(h) = 8.19e-13\n",
      "h = 3.91e-03,   S(h) = 0.73575888,   e(h) = 8.19e-13\n",
      "\n",
      "The order p and the error constant C\n",
      "h = 1.00e+00,  p = -0.00,  C = 0.0000\n",
      "h = 5.00e-01,  p = -0.00,  C = 0.0000\n",
      "h = 2.50e-01,  p = -0.00,  C = 0.0000\n",
      "h = 1.25e-01,  p = -0.00,  C = 0.0000\n",
      "h = 6.25e-02,  p = -0.00,  C = 0.0000\n",
      "h = 3.12e-02,  p = -0.00,  C = 0.0000\n",
      "h = 1.56e-02,  p = -0.00,  C = 0.0000\n",
      "h = 7.81e-03,  p = -0.00,  C = 0.0000\n"
     ]
    },
    {
     "data": {
      "image/png": "[encoded data removed]",
      "text/plain": [
       "<Figure size 576x288 with 1 Axes>"
      ]
     },
     "metadata": {
      "needs_background": "light"
     },
     "output_type": "display_data"
    }
   ],
   "source": [
    "print(\"1] b)\")\n",
    "\n",
    "def f1(x):                       # Define the function\n",
    "    return sqrt(1-x**2) * exp(x)\n",
    "\n",
    "a1, b1 = -1, 1                    # integration interval\n",
    "exact1 = 1.7754996892121809469\n",
    "\n",
    "# Find an numerical approximation for different values of h. \n",
    "# Store the stepsize h and the error\n",
    "n1 = 1                           # initial stepsize, h=(b-a) \n",
    "h1 = (b1-a1)/n1\n",
    "steps1 = []                      # arrays to store stepsizes and errors\n",
    "errors1 = []\n",
    "Nmax1 = 10\n",
    "for k in range(Nmax1):\n",
    "    numres1 = simpson(f, a, b, n)    # Numerical approximation\n",
    "    eh1 = abs(exact - numres)            # Error e(h)\n",
    "    print('h = {:8.2e},   S(h) = {:10.8f},   e(h) = {:8.2e}'.format(h1, numres1, eh1))\n",
    "    steps1.append(h1)                     # Append the step to the array\n",
    "    errors1.append(eh1)                   # Append the error to the array\n",
    "    n1 = 2*n1                             # Reduce the stepsize with a factor 2\n",
    "    h1 = (b1-a1)/n1\n",
    "\n",
    "# Find the order and the error constant\n",
    "print('\\nThe order p and the error constant C')\n",
    "for k1 in range(1, Nmax1-1):\n",
    "    p1 = log(errors1[k1+1]/errors1[k1])/log(steps1[k1+1]/steps1[k1])\n",
    "    C1 = errors1[k1+1]/steps1[k1+1]**p1\n",
    "    print('h = {:8.2e},  p = {:4.2f},  C = {:6.4f}'.format(steps1[k1], p1, C1))\n",
    "\n",
    "# Make an error plot\n",
    "clf()\n",
    "loglog(steps1, errors1, 'o-')\n",
    "xlabel('h')\n",
    "ylabel('e(h)')\n",
    "title('Error plot for the simpson rule')\n",
    "grid('True')"
   ]
  },
  {
   "cell_type": "code",
   "execution_count": 19,
   "metadata": {
    "ExecuteTime": {
     "end_time": "2019-11-05T10:26:18.467604Z",
     "start_time": "2019-11-05T10:26:18.460859Z"
    }
   },
   "outputs": [],
   "source": [
    "def newton(f, df, x0, tol=1.e-8, max_iter=30):\n",
    "    # Solve f(x)=0 by Newtons method\n",
    "    # The output of each iteration is printed\n",
    "    # Input:\n",
    "    #   f, df:   The function f and its derivate f'.\n",
    "    #   x0:  Initial values\n",
    "    #   tol: The tolerance\n",
    "    # Output:\n",
    "    #   The root and the number of iterations\n",
    "    x = x0\n",
    "    print('k ={:3d}, x = {:18.15f}, f(x) = {:10.3e}'.format(0, x, f(x)))\n",
    "    for k in range(max_iter):\n",
    "        fx = f(x)\n",
    "        if abs(fx) < tol:           # Accept the solution \n",
    "            break \n",
    "        x = x - fx/df(x)            # Newton-iteration\n",
    "        print('k ={:3d}, x = {:18.15f}, f(x) = {:10.3e}'.format(k+1, x, f(x)))\n",
    "    return x, k+1"
   ]
  },
  {
   "cell_type": "code",
   "execution_count": 20,
   "metadata": {
    "ExecuteTime": {
     "end_time": "2019-11-05T10:26:18.567830Z",
     "start_time": "2019-11-05T10:26:18.534951Z"
    }
   },
   "outputs": [
    {
     "ename": "NameError",
     "evalue": "name 't' is not defined",
     "output_type": "error",
     "traceback": [
      "\u001b[0;31m---------------------------------------------------------------------------\u001b[0m",
      "\u001b[0;31mNameError\u001b[0m                                 Traceback (most recent call last)",
      "\u001b[0;32m<ipython-input-20-38a78c00e969>\u001b[0m in \u001b[0;36m<module>\u001b[0;34m\u001b[0m\n\u001b[1;32m      5\u001b[0m \u001b[0;34m\u001b[0m\u001b[0m\n\u001b[1;32m      6\u001b[0m \u001b[0mx0\u001b[0m \u001b[0;34m=\u001b[0m \u001b[0;36m1.3\u001b[0m                      \u001b[0;31m# Starting value\u001b[0m\u001b[0;34m\u001b[0m\u001b[0;34m\u001b[0m\u001b[0m\n\u001b[0;32m----> 7\u001b[0;31m \u001b[0mx3\u001b[0m\u001b[0;34m,\u001b[0m \u001b[0mnit\u001b[0m \u001b[0;34m=\u001b[0m \u001b[0mnewton\u001b[0m\u001b[0;34m(\u001b[0m\u001b[0mt\u001b[0m\u001b[0;34m,\u001b[0m \u001b[0mder\u001b[0m\u001b[0;34m,\u001b[0m \u001b[0mx0\u001b[0m\u001b[0;34m,\u001b[0m \u001b[0mtol\u001b[0m\u001b[0;34m=\u001b[0m\u001b[0;36m1.e-14\u001b[0m\u001b[0;34m,\u001b[0m \u001b[0mmax_iter\u001b[0m\u001b[0;34m=\u001b[0m\u001b[0;36m30\u001b[0m\u001b[0;34m)\u001b[0m  \u001b[0;31m# Apply Newton\u001b[0m\u001b[0;34m\u001b[0m\u001b[0;34m\u001b[0m\u001b[0m\n\u001b[0m\u001b[1;32m      8\u001b[0m \u001b[0mprint\u001b[0m\u001b[0;34m(\u001b[0m\u001b[0;34m'\\n\\nResult:\\nx={}, number of iterations={}'\u001b[0m\u001b[0;34m.\u001b[0m\u001b[0mformat\u001b[0m\u001b[0;34m(\u001b[0m\u001b[0mx3\u001b[0m\u001b[0;34m,\u001b[0m \u001b[0mnit\u001b[0m\u001b[0;34m)\u001b[0m\u001b[0;34m)\u001b[0m\u001b[0;34m\u001b[0m\u001b[0;34m\u001b[0m\u001b[0m\n",
      "\u001b[0;31mNameError\u001b[0m: name 't' is not defined"
     ]
    }
   ],
   "source": [
    "# 3] a)\n",
    "\n",
    "def der(x):                  # The derivative f'\n",
    "    return exp(x) + 2*x - 1\n",
    "\n",
    "x0 = 1.3                      # Starting value\n",
    "x3, nit = newton(t, der, x0, tol=1.e-14, max_iter=30)  # Apply Newton\n",
    "print('\\n\\nResult:\\nx={}, number of iterations={}'.format(x3, nit))"
   ]
  },
  {
   "cell_type": "code",
   "execution_count": 21,
   "metadata": {
    "ExecuteTime": {
     "end_time": "2019-11-05T10:28:15.832914Z",
     "start_time": "2019-11-05T10:28:15.813453Z"
    }
   },
   "outputs": [],
   "source": [
    "def fixpoint(g, x0, tol=1.e-8, max_iter=30):\n",
    "    # Solve x=g(x) by fixed point iterations\n",
    "    # The output of each iteration is printed\n",
    "    # Input:\n",
    "    #   g:   The function g(x)\n",
    "    #   x0:  Initial values\n",
    "    #   tol: The tolerance\n",
    "    # Output:\n",
    "    #   The root and the number of iterations\n",
    "    x = x0\n",
    "    print('k ={:3d}, x = {:14.10f}'.format(0, x))  \n",
    "    for k in range(max_iter):        \n",
    "        x_old = x                        # Store old values for error estimation \n",
    "        x = g(x)                         # The iteration\n",
    "        err = abs(x-x_old)               # Error estimate\n",
    "        print('k ={:3d}, x = {:14.10f}'.format(k+1, x))\n",
    "        if err < tol:          # The solution is accepted \n",
    "            break\n",
    "    return x, k+1"
   ]
  },
  {
   "cell_type": "code",
   "execution_count": 22,
   "metadata": {
    "ExecuteTime": {
     "end_time": "2019-11-05T10:28:17.810590Z",
     "start_time": "2019-11-05T10:28:17.781663Z"
    }
   },
   "outputs": [
    {
     "name": "stdout",
     "output_type": "stream",
     "text": [
      "log(4 + x + x**2): (kun denne konvergerer)\n",
      "k =  0, x =   1.5000000000\n",
      "k =  1, x =   2.0476928434\n",
      "k =  2, x =   2.3263737678\n",
      "k =  3, x =   2.4628645542\n",
      "k =  4, x =   2.5280113463\n",
      "k =  5, x =   2.5586876951\n",
      "k =  6, x =   2.5730373624\n",
      "k =  7, x =   2.5797287280\n",
      "k =  8, x =   2.5828443623\n",
      "k =  9, x =   2.5842940641\n",
      "k = 10, x =   2.5849683923\n",
      "\n",
      "Resultat:\n",
      "x = 2.58496839225596, antall iterasjoner=10\n",
      "\n",
      "sqrt(-exp(x) + x + 4):\n",
      "k =  0, x =   1.5000000000\n",
      "k =  1, x =   1.0091139329\n",
      "k =  2, x =   1.5053054929\n",
      "k =  3, x =   0.9998878264\n",
      "k =  4, x =   1.5105995169\n",
      "k =  5, x =   0.9905322092\n",
      "k =  6, x =   1.5158710552\n",
      "k =  7, x =   0.9810634053\n",
      "k =  8, x =   1.5211088914\n",
      "k =  9, x =   0.9714992449\n",
      "k = 10, x =   1.5263017049\n",
      "\n",
      "\n",
      "Resultat:\n",
      "x = 1.5263017049440268, antall iterasjoner=10\n",
      "\n",
      "exp(x) + x**2 - 4:\n",
      "k =  0, x =   1.5000000000\n",
      "k =  1, x =   2.7316890703\n",
      "k =  2, x =  18.8209324059\n",
      "k =  3, x = 149220368.2729534507\n",
      "k =  4, x =            inf\n",
      "k =  5, x =            inf\n",
      "k =  6, x =            inf\n",
      "k =  7, x =            inf\n",
      "k =  8, x =            inf\n",
      "k =  9, x =            inf\n",
      "k = 10, x =            inf\n",
      "\n",
      "\n",
      "Resultat:\n",
      "x = inf, antall iterasjoner=10\n"
     ]
    },
    {
     "name": "stderr",
     "output_type": "stream",
     "text": [
      "/opt/conda/lib/python3.6/site-packages/ipykernel_launcher.py:10: RuntimeWarning: overflow encountered in exp\n",
      "  # Remove the CWD from sys.path while we load stuff.\n",
      "/opt/conda/lib/python3.6/site-packages/ipykernel_launcher.py:15: RuntimeWarning: invalid value encountered in double_scalars\n",
      "  from ipykernel import kernelapp as app\n"
     ]
    }
   ],
   "source": [
    "# 3] b)\n",
    "\n",
    "def i(x):\n",
    "    return log(4 + x + x**2)\n",
    "    \n",
    "def ii(x):\n",
    "    return sqrt(-exp(x) + x + 4)\n",
    "\n",
    "def iii(x):\n",
    "    return exp(x) + x**2 - 4\n",
    "\n",
    "print('log(4 + x + x**2): (kun denne konvergerer)')\n",
    "x4, nit = fixpoint(i, x0=1.5, tol=1.e-6, max_iter=10)\n",
    "print('\\nResultat:\\nx = {}, antall iterasjoner={}\\n\\nsqrt(-exp(x) + x + 4):'.format(x4, nit))\n",
    "\n",
    "x5, nit = fixpoint(ii, x0=1.5, tol=1.e-6, max_iter=10)\n",
    "print('\\n\\nResultat:\\nx = {}, antall iterasjoner={}\\n\\nexp(x) + x**2 - 4:'.format(x5, nit))\n",
    "\n",
    "x6, nit = fixpoint(iii, x0=1.5, tol=1.e-6, max_iter=10)\n",
    "print('\\n\\nResultat:\\nx = {}, antall iterasjoner={}'.format(x6, nit))"
   ]
  },
  {
   "cell_type": "code",
   "execution_count": 23,
   "metadata": {
    "ExecuteTime": {
     "end_time": "2019-11-05T10:28:20.887015Z",
     "start_time": "2019-11-05T10:28:20.878974Z"
    }
   },
   "outputs": [],
   "source": [
    "def newton_system(f, jac, x0, tol = 1.e-10, max_iter=20):\n",
    "    x = x0\n",
    "    print('k ={:3d}, x = '.format(0), x)\n",
    "    for k in range(max_iter):\n",
    "        fx = f(x)\n",
    "        if norm(fx, inf) < tol:          # The solution is accepted. \n",
    "            break\n",
    "        Jx = jac(x)\n",
    "        delta = solve(Jx, -fx) \n",
    "        x = x + delta            \n",
    "        print('k ={:3d}, x = '.format(k+1), x)\n",
    "    return x, k"
   ]
  },
  {
   "cell_type": "code",
   "execution_count": 26,
   "metadata": {
    "ExecuteTime": {
     "end_time": "2019-11-05T10:28:36.242556Z",
     "start_time": "2019-11-05T10:28:36.189616Z"
    }
   },
   "outputs": [
    {
     "name": "stdout",
     "output_type": "stream",
     "text": [
      "5] b):\n",
      "k =  0, x =  [ 2.  0.]\n",
      "k =  1, x =  [ 2.   0.5]\n",
      "k =  2, x =  [ 2.06666667  0.48333333]\n",
      "k =  3, x =  [ 2.05693613  0.48614666]\n",
      "k =  4, x =  [ 2.05831082  0.48583507]\n",
      "k =  5, x =  [ 2.05815443  0.48587219]\n",
      "k =  6, x =  [ 2.05817298  0.48586781]\n",
      "k =  7, x =  [ 2.0581708   0.48586833]\n",
      "k =  8, x =  [ 2.05817105  0.48586827]\n",
      "k =  9, x =  [ 2.05817102  0.48586827]\n",
      "k = 10, x =  [ 2.05817103  0.48586827]\n",
      "k = 11, x =  [ 2.05817103  0.48586827]\n",
      "k = 12, x =  [ 2.05817103  0.48586827]\n",
      "k = 13, x =  [ 2.05817103  0.48586827]\n",
      "k = 14, x =  [ 2.05817103  0.48586827]\n"
     ]
    }
   ],
   "source": [
    "# 5] b)\n",
    "\n",
    "# The vector valued function. Notice the indexing. \n",
    "def f(x):               \n",
    "    y = array([x[0]**2 - x[1]**2 - 4, \n",
    "               x[0]*x[1] - 1])\n",
    "    return y\n",
    "\n",
    "# The Jacobian\n",
    "def jac(x):\n",
    "    J = array([[2*x[0], 2*x[1]],\n",
    "         [x[1],    x[0]]])\n",
    "    return J\n",
    "\n",
    "x0 = array([2.0, 0.0])          # Starting values\n",
    "max_iter = 20\n",
    "\n",
    "print(\"5] b):\")\n",
    "x, nit = newton_system(f, jac, x0, tol = 1.e-12, max_iter = max_iter)  # Apply Newton's method\n",
    "  \n",
    "if nit == max_iter:\n",
    "    printf('Warning: Convergence har not been achieved')"
   ]
  },
  {
   "cell_type": "code",
   "execution_count": 29,
   "metadata": {
    "ExecuteTime": {
     "end_time": "2019-11-05T10:31:12.029929Z",
     "start_time": "2019-11-05T10:31:11.924855Z"
    }
   },
   "outputs": [
    {
     "name": "stdout",
     "output_type": "stream",
     "text": [
      "5] c):\n",
      "k =  0, x =  [ 2.  0.]\n",
      "k =  1, x =  [ 2.   0.5]\n",
      "k =  2, x =  [ 1.93333333  0.51666667]\n",
      "k =  3, x =  [ 1.93185274  0.51763705]\n",
      "k =  4, x =  [ 1.93185165  0.51763809]\n",
      "k =  5, x =  [ 1.93185165  0.51763809]\n",
      "The method still converges\n"
     ]
    }
   ],
   "source": [
    "# 5] c)\n",
    "\n",
    "# The vector valued function. Notice the indexing. \n",
    "def f(x):               \n",
    "    y = array([x[0]**2 + x[1]**2 - 4, \n",
    "               x[0]*x[1] - 1])\n",
    "    return y\n",
    "\n",
    "# The Jacobian\n",
    "def jac(x):\n",
    "    J = array([[2*x[0], 2*x[1]],\n",
    "         [x[1],    x[0]]])\n",
    "    return J\n",
    "\n",
    "x0 = array([2.0, 0.0])          # Starting values\n",
    "max_iter = 20\n",
    "\n",
    "print(\"5] c):\")\n",
    "x, nit = newton_system(f, jac, x0, tol = 1.e-12, max_iter = max_iter)  # Apply Newton's method\n",
    "  \n",
    "if nit == max_iter:\n",
    "    printf('Warning: Convergence har not been achieved')\n",
    "    \n",
    "print(\"The method still converges\")"
   ]
  },
  {
   "cell_type": "code",
   "execution_count": null,
   "metadata": {},
   "outputs": [],
   "source": []
  },
  {
   "cell_type": "code",
   "execution_count": null,
   "metadata": {},
   "outputs": [],
   "source": []
  },
  {
   "cell_type": "code",
   "execution_count": null,
   "metadata": {},
   "outputs": [],
   "source": []
  },
  {
   "cell_type": "code",
   "execution_count": null,
   "metadata": {},
   "outputs": [],
   "source": []
  }
 ],
 "metadata": {
  "kernelspec": {
   "display_name": "Python 3",
   "language": "python",
   "name": "python3"
  },
  "language_info": {
   "codemirror_mode": {
    "name": "ipython",
    "version": 3
   },
   "file_extension": ".py",
   "mimetype": "text/x-python",
   "name": "python",
   "nbconvert_exporter": "python",
   "pygments_lexer": "ipython3",
   "version": "3.6.7"
  },
  "toc": {
   "base_numbering": 1,
   "nav_menu": {},
   "number_sections": true,
   "sideBar": true,
   "skip_h1_title": false,
   "title_cell": "Table of Contents",
   "title_sidebar": "Contents",
   "toc_cell": false,
   "toc_position": {},
   "toc_section_display": true,
   "toc_window_display": false
  }
 },
 "nbformat": 4,
 "nbformat_minor": 2
}
